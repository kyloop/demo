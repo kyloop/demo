{
 "cells": [
  {
   "cell_type": "markdown",
   "metadata": {},
   "source": [
    "### MongoDB Demo"
   ]
  },
  {
   "cell_type": "markdown",
   "metadata": {},
   "source": [
    "### 1. Need to start mongodb by entering in Shell: brew services start mongodb"
   ]
  },
  {
   "cell_type": "code",
   "execution_count": null,
   "metadata": {},
   "outputs": [],
   "source": [
    "from pymongo import MongoClient\n",
    "client = MongoClient()"
   ]
  },
  {
   "cell_type": "code",
   "execution_count": null,
   "metadata": {},
   "outputs": [],
   "source": [
    "client = MongoClient('localhost', 27017)"
   ]
  },
  {
   "cell_type": "code",
   "execution_count": null,
   "metadata": {},
   "outputs": [],
   "source": [
    "db = client[\"test_DB\"]\n",
    "print(db)"
   ]
  },
  {
   "cell_type": "markdown",
   "metadata": {},
   "source": [
    "### 2.Generate first Dict Document"
   ]
  },
  {
   "cell_type": "code",
   "execution_count": null,
   "metadata": {},
   "outputs": [],
   "source": [
    "import datetime\n",
    "\n",
    "post1 = {\"author\": \"Mike\",\n",
    "        \"text\": \"My first blog post!\",\n",
    "        \"tags\": [\"mongodb\", \"python\", \"pymongo\"],\n",
    "        \"date\": datetime.datetime.utcnow()}\n",
    "\n",
    "post2 = {\"author\": \"John\",\n",
    "        \"text\": \"My second blog post!\",\n",
    "        \"tags\": [\"mongodb\", \"python\", \"pymongo\"],\n",
    "        \"date\": datetime.datetime.utcnow()}\n",
    "\n",
    "post3 = {\"author\": \"Mary\",\n",
    "        \"text\": \"My first blog post!\",\n",
    "        \"tags\": [\"mongodb\", \"python\", \"pymongo\"],\n",
    "        \"date\": datetime.datetime.utcnow()}\n",
    "\n",
    "post4 = {\"author\": \"Joe\",\n",
    "        \"text\": \"My second blog post!\",\n",
    "        \"tags\": [\"mongodb\", \"python\", \"pymongo\"],\n",
    "        \"date\": datetime.datetime.utcnow()}\n"
   ]
  },
  {
   "cell_type": "markdown",
   "metadata": {},
   "source": [
    "### 3.Insert the First Dict to DB"
   ]
  },
  {
   "cell_type": "code",
   "execution_count": null,
   "metadata": {},
   "outputs": [],
   "source": [
    "doc1=db.doc1\n",
    "\n",
    "#db.insert_one(post1)\n",
    "post_id = doc1.insert_one(post1).inserted_id\n",
    "print(post_id)\n",
    "\n",
    "post_id = doc1.insert_one(post2).inserted_id\n",
    "print(post_id)\n",
    "\n",
    "db.list_collection_names()"
   ]
  },
  {
   "cell_type": "code",
   "execution_count": null,
   "metadata": {},
   "outputs": [],
   "source": [
    "doc2=db.doc2\n",
    "\n",
    "#db.insert_one(post1)\n",
    "post_id = doc2.insert_one(post3).inserted_id\n",
    "print(post_id)\n",
    "\n",
    "post_id = doc2.insert_one(post4).inserted_id\n",
    "print(post_id)\n",
    "\n",
    "db.list_collection_names()"
   ]
  },
  {
   "cell_type": "markdown",
   "metadata": {},
   "source": [
    "### Extracting One Instance from different sub-database"
   ]
  },
  {
   "cell_type": "code",
   "execution_count": null,
   "metadata": {},
   "outputs": [],
   "source": [
    "print(doc1.find_one())\n",
    "print(doc2.find_one())"
   ]
  },
  {
   "cell_type": "code",
   "execution_count": null,
   "metadata": {},
   "outputs": [],
   "source": [
    "import pprint\n",
    "pprint.pprint(doc1.find_one())\n",
    "pprint.pprint(doc2.find_one())"
   ]
  },
  {
   "cell_type": "code",
   "execution_count": null,
   "metadata": {},
   "outputs": [],
   "source": [
    "#Query by \"author\"\n",
    "pprint.pprint(doc1.find_one({\"author\":\"Mary\"}))"
   ]
  },
  {
   "cell_type": "code",
   "execution_count": null,
   "metadata": {},
   "outputs": [],
   "source": [
    "#Query by instance id\n",
    "doc2.find_one({'_id': post_id })"
   ]
  },
  {
   "cell_type": "code",
   "execution_count": null,
   "metadata": {},
   "outputs": [],
   "source": [
    "from bson.objectid import ObjectId\n",
    "\n",
    "# The web framework gets post_id from the URL and passes it as a string\n",
    "def get(post_id):\n",
    "    # Convert from string to ObjectId:\n",
    "    document = doc2.find_one({'_id': ObjectId(post_id)})\n",
    "    \n",
    "    if document:print(document)\n",
    "    else: print(None)"
   ]
  },
  {
   "cell_type": "code",
   "execution_count": null,
   "metadata": {},
   "outputs": [],
   "source": [
    "get(str(post_id))\n",
    "#doc2.find_one({\"_id\":ObjectId(str(post_id))})"
   ]
  },
  {
   "cell_type": "markdown",
   "metadata": {},
   "source": [
    "### Bulk Insert Many"
   ]
  },
  {
   "cell_type": "code",
   "execution_count": null,
   "metadata": {},
   "outputs": [],
   "source": [
    "import datetime\n",
    "\n",
    "xposts3=[{\"author\": \"Mike\",\n",
    "        \"text\": \"My first blog post!\",\n",
    "        \"tags\": [\"mongodb\", \"python\", \"pymongo\"],\n",
    "        \"date\": datetime.datetime.utcnow()},\n",
    "        \n",
    "        {\"author\": \"John\",\n",
    "        \"text\": \"My second blog post!\",\n",
    "        \"tags\": [\"mongodb\", \"python\", \"pymongo\"],\n",
    "        \"date\": datetime.datetime.utcnow()}]\n"
   ]
  },
  {
   "cell_type": "code",
   "execution_count": null,
   "metadata": {},
   "outputs": [],
   "source": [
    "# Print out all the ids after bulk INSERT\n",
    "doc3=db.doc3\n",
    "result = doc3.insert_many(xposts3)\n",
    "pprint.pprint(result.inserted_ids)"
   ]
  },
  {
   "cell_type": "code",
   "execution_count": null,
   "metadata": {},
   "outputs": [],
   "source": [
    "#print out all records\n",
    "for post in doc3.find():\n",
    "    pprint.pprint(post)"
   ]
  },
  {
   "cell_type": "code",
   "execution_count": 24,
   "metadata": {},
   "outputs": [
    {
     "name": "stdout",
     "output_type": "stream",
     "text": [
      "{'_id': ObjectId('5cca6764e2e98618fd2adfef'),\n",
      " 'author': 'Mike',\n",
      " 'date': datetime.datetime(2019, 5, 2, 3, 41, 48, 363000),\n",
      " 'tags': ['mongodb', 'python', 'pymongo'],\n",
      " 'text': 'My first blog post!'}\n",
      "{'_id': ObjectId('5cca679bd6a1f444e5574ce0'),\n",
      " 'author': 'Mike',\n",
      " 'date': datetime.datetime(2019, 5, 2, 3, 44, 27, 248000),\n",
      " 'tags': ['mongodb', 'python', 'pymongo'],\n",
      " 'text': 'My first blog post!'}\n",
      "{'_id': ObjectId('5cca6aabbcb1bb0916e8bd3f'),\n",
      " 'author': 'Mike',\n",
      " 'date': datetime.datetime(2019, 5, 2, 3, 57, 31, 159000),\n",
      " 'tags': ['mongodb', 'python', 'pymongo'],\n",
      " 'text': 'My first blog post!'}\n",
      "{'_id': ObjectId('5cca6acdbcb1bb0916e8bd41'),\n",
      " 'author': 'Mike',\n",
      " 'date': datetime.datetime(2019, 5, 2, 3, 58, 3, 842000),\n",
      " 'tags': ['mongodb', 'python', 'pymongo'],\n",
      " 'text': 'My first blog post!'}\n"
     ]
    }
   ],
   "source": [
    "# print out all the records with specific \"author\"\n",
    "for post in doc3.find({'author': 'Mike'}):\n",
    "    pprint.pprint(post)"
   ]
  },
  {
   "cell_type": "markdown",
   "metadata": {},
   "source": [
    "### Counting documents in the specific Collection"
   ]
  },
  {
   "cell_type": "code",
   "execution_count": 27,
   "metadata": {},
   "outputs": [
    {
     "name": "stdout",
     "output_type": "stream",
     "text": [
      "8\n"
     ]
    }
   ],
   "source": [
    "cnt=doc3.count_documents({})\n",
    "print(cnt)"
   ]
  },
  {
   "cell_type": "code",
   "execution_count": 28,
   "metadata": {},
   "outputs": [
    {
     "name": "stdout",
     "output_type": "stream",
     "text": [
      "4\n"
     ]
    }
   ],
   "source": [
    "cnt=doc3.count_documents({'author':'Mike'})\n",
    "print(cnt)"
   ]
  },
  {
   "cell_type": "markdown",
   "metadata": {},
   "source": [
    "### Printing document with Sorting 'author' Name"
   ]
  },
  {
   "cell_type": "code",
   "execution_count": 38,
   "metadata": {},
   "outputs": [
    {
     "name": "stdout",
     "output_type": "stream",
     "text": [
      "{'_id': ObjectId('5cca6764e2e98618fd2adfef'),\n",
      " 'author': 'Mike',\n",
      " 'date': datetime.datetime(2019, 5, 2, 3, 41, 48, 363000),\n",
      " 'tags': ['mongodb', 'python', 'pymongo'],\n",
      " 'text': 'My first blog post!'}\n",
      "{'_id': ObjectId('5cca6764e2e98618fd2adff0'),\n",
      " 'author': 'John',\n",
      " 'date': datetime.datetime(2019, 5, 2, 3, 41, 48, 363000),\n",
      " 'tags': ['mongodb', 'python', 'pymongo'],\n",
      " 'text': 'My second blog post!'}\n",
      "{'_id': ObjectId('5cca679bd6a1f444e5574ce0'),\n",
      " 'author': 'Mike',\n",
      " 'date': datetime.datetime(2019, 5, 2, 3, 44, 27, 248000),\n",
      " 'tags': ['mongodb', 'python', 'pymongo'],\n",
      " 'text': 'My first blog post!'}\n",
      "{'_id': ObjectId('5cca679bd6a1f444e5574ce1'),\n",
      " 'author': 'John',\n",
      " 'date': datetime.datetime(2019, 5, 2, 3, 44, 27, 248000),\n",
      " 'tags': ['mongodb', 'python', 'pymongo'],\n",
      " 'text': 'My second blog post!'}\n"
     ]
    }
   ],
   "source": [
    "date=datetime.datetime(2019, 5, 2, 3, 50, 31)\n",
    "for post in doc3.find({\"date\": {\"$lt\":date}}).sort('author').sort('date'):\n",
    "    pprint.pprint(post)"
   ]
  }
 ],
 "metadata": {
  "kernelspec": {
   "display_name": "Python 3",
   "language": "python",
   "name": "python3"
  },
  "language_info": {
   "codemirror_mode": {
    "name": "ipython",
    "version": 3
   },
   "file_extension": ".py",
   "mimetype": "text/x-python",
   "name": "python",
   "nbconvert_exporter": "python",
   "pygments_lexer": "ipython3",
   "version": "3.6.7"
  }
 },
 "nbformat": 4,
 "nbformat_minor": 2
}
